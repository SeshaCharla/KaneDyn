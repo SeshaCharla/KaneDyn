{
 "cells": [
  {
   "cell_type": "code",
   "execution_count": 16,
   "metadata": {},
   "outputs": [],
   "source": [
    "import sympy as sp\n",
    "import numpy as np"
   ]
  },
  {
   "cell_type": "code",
   "execution_count": 17,
   "metadata": {},
   "outputs": [],
   "source": [
    "th1, th2, th3 = sp.symbols(\"phi, theta, psi\")\n",
    "th1_d, th2_d, th3_d = sp.symbols(\"theta__'_1 theta__'_2 theta__'_3\") \n",
    "Omega = sp.symbols(\"Omega\")\n",
    "omega_1, omega_2, omega_3 = sp.symbols(\"omega_1 omega_2 omega_3\")"
   ]
  },
  {
   "cell_type": "code",
   "execution_count": 18,
   "metadata": {},
   "outputs": [
    {
     "name": "stdout",
     "output_type": "stream",
     "text": [
      "⎡⎡1     0       0   ⎤  ⎡cos(θ)  0  -sin(θ)⎤  ⎡cos(ψ)   sin(ψ)  0⎤⎤\n",
      "⎢⎢                  ⎥  ⎢                  ⎥  ⎢                  ⎥⎥\n",
      "⎢⎢0  cos(φ)   sin(φ)⎥, ⎢  0     1     0   ⎥, ⎢-sin(ψ)  cos(ψ)  0⎥⎥\n",
      "⎢⎢                  ⎥  ⎢                  ⎥  ⎢                  ⎥⎥\n",
      "⎣⎣0  -sin(φ)  cos(φ)⎦  ⎣sin(θ)  0  cos(θ) ⎦  ⎣   0       0     1⎦⎦\n"
     ]
    }
   ],
   "source": [
    "#R_1\n",
    "R_1 = sp.Matrix([[1, 0, 0], [0, sp.cos(th1), sp.sin(th1)], [0, -sp.sin(th1), sp.cos(th1)]])\n",
    "# R_2\n",
    "R_2 = sp.Matrix([[sp.cos(th2), 0, -sp.sin(th2)], [0, 1, 0], [sp.sin(th2), 0, sp.cos(th2)]])\n",
    "# R_3\n",
    "R_3 = sp.Matrix([[sp.cos(th3), sp.sin(th3), 0], [-sp.sin(th3), sp.cos(th3), 0], [0, 0, 1]])\n",
    "sp.pprint([R_1, R_2, R_3])"
   ]
  },
  {
   "cell_type": "code",
   "execution_count": 19,
   "metadata": {},
   "outputs": [
    {
     "data": {
      "text/latex": [
       "$\\displaystyle \\left[\\begin{matrix}\\sin{\\left(\\phi \\right)} \\sin{\\left(\\psi \\right)} - \\sin{\\left(\\theta \\right)} \\cos{\\left(\\phi \\right)} \\cos{\\left(\\psi \\right)}\\\\\\sin{\\left(\\phi \\right)} \\cos{\\left(\\psi \\right)} + \\sin{\\left(\\psi \\right)} \\sin{\\left(\\theta \\right)} \\cos{\\left(\\phi \\right)}\\\\\\cos{\\left(\\phi \\right)} \\cos{\\left(\\theta \\right)}\\end{matrix}\\right]$"
      ],
      "text/plain": [
       "Matrix([\n",
       "[sin(phi)*sin(psi) - sin(theta)*cos(phi)*cos(psi)],\n",
       "[sin(phi)*cos(psi) + sin(psi)*sin(theta)*cos(phi)],\n",
       "[                             cos(phi)*cos(theta)]])"
      ]
     },
     "execution_count": 19,
     "metadata": {},
     "output_type": "execute_result"
    }
   ],
   "source": [
    "A_3 = ((R_1.T @ R_2.T @ R_3.T)[2, :]).T\n",
    "A_3"
   ]
  },
  {
   "cell_type": "code",
   "execution_count": 20,
   "metadata": {},
   "outputs": [
    {
     "data": {
      "text/latex": [
       "$\\displaystyle \\left[\\begin{matrix}\\cos{\\left(\\psi \\right)} \\cos{\\left(\\theta \\right)} & - \\sin{\\left(\\psi \\right)} \\cos{\\left(\\theta \\right)} & \\sin{\\left(\\theta \\right)}\\end{matrix}\\right]$"
      ],
      "text/plain": [
       "Matrix([[cos(psi)*cos(theta), -sin(psi)*cos(theta), sin(theta)]])"
      ]
     },
     "execution_count": 20,
     "metadata": {},
     "output_type": "execute_result"
    }
   ],
   "source": [
    "X_1 = (R_2.T @ R_3.T)[0, :]\n",
    "X_1"
   ]
  },
  {
   "cell_type": "code",
   "execution_count": 21,
   "metadata": {},
   "outputs": [
    {
     "data": {
      "text/latex": [
       "$\\displaystyle \\left[\\begin{matrix}\\sin{\\left(\\psi \\right)} & \\cos{\\left(\\psi \\right)} & 0\\end{matrix}\\right]$"
      ],
      "text/plain": [
       "Matrix([[sin(psi), cos(psi), 0]])"
      ]
     },
     "execution_count": 21,
     "metadata": {},
     "output_type": "execute_result"
    }
   ],
   "source": [
    "X_2 = (R_3.T)[1, :]\n",
    "X_2"
   ]
  },
  {
   "cell_type": "code",
   "execution_count": 22,
   "metadata": {},
   "outputs": [
    {
     "data": {
      "text/latex": [
       "$\\displaystyle \\left[\\begin{matrix}0 & 0 & 1\\end{matrix}\\right]$"
      ],
      "text/plain": [
       "Matrix([[0, 0, 1]])"
      ]
     },
     "execution_count": 22,
     "metadata": {},
     "output_type": "execute_result"
    }
   ],
   "source": [
    "X_3 = sp.Matrix([0, 0, 1]).T\n",
    "X_3"
   ]
  },
  {
   "cell_type": "code",
   "execution_count": 23,
   "metadata": {},
   "outputs": [
    {
     "data": {
      "text/latex": [
       "$\\displaystyle \\left[\\begin{matrix}\\cos{\\left(\\psi \\right)} \\cos{\\left(\\theta \\right)} & - \\sin{\\left(\\psi \\right)} \\cos{\\left(\\theta \\right)} & \\sin{\\left(\\theta \\right)}\\\\\\sin{\\left(\\psi \\right)} & \\cos{\\left(\\psi \\right)} & 0\\\\0 & 0 & 1\\end{matrix}\\right]$"
      ],
      "text/plain": [
       "Matrix([\n",
       "[cos(psi)*cos(theta), -sin(psi)*cos(theta), sin(theta)],\n",
       "[           sin(psi),             cos(psi),          0],\n",
       "[                  0,                    0,          1]])"
      ]
     },
     "execution_count": 23,
     "metadata": {},
     "output_type": "execute_result"
    }
   ],
   "source": [
    "A = sp.Matrix([X_1, X_2, X_3])\n",
    "A"
   ]
  },
  {
   "cell_type": "code",
   "execution_count": 24,
   "metadata": {},
   "outputs": [
    {
     "data": {
      "text/latex": [
       "$\\displaystyle \\left[\\begin{matrix}\\omega_{1}\\\\\\omega_{2}\\\\\\omega_{3}\\end{matrix}\\right]$"
      ],
      "text/plain": [
       "Matrix([\n",
       "[omega_1],\n",
       "[omega_2],\n",
       "[omega_3]])"
      ]
     },
     "execution_count": 24,
     "metadata": {},
     "output_type": "execute_result"
    }
   ],
   "source": [
    "omega = sp.Matrix([[omega_1], [omega_2], [omega_3]])\n",
    "omega"
   ]
  },
  {
   "cell_type": "code",
   "execution_count": 25,
   "metadata": {},
   "outputs": [
    {
     "data": {
      "text/latex": [
       "$\\displaystyle \\left[\\begin{matrix}\\frac{\\cos{\\left(\\psi \\right)}}{\\cos{\\left(\\theta \\right)}} & \\sin{\\left(\\psi \\right)} & - \\cos{\\left(\\psi \\right)} \\tan{\\left(\\theta \\right)}\\\\- \\frac{\\sin{\\left(\\psi \\right)}}{\\cos{\\left(\\theta \\right)}} & \\cos{\\left(\\psi \\right)} & \\sin{\\left(\\psi \\right)} \\tan{\\left(\\theta \\right)}\\\\0 & 0 & 1\\end{matrix}\\right]$"
      ],
      "text/plain": [
       "Matrix([\n",
       "[ cos(psi)/cos(theta), sin(psi), -cos(psi)*tan(theta)],\n",
       "[-sin(psi)/cos(theta), cos(psi),  sin(psi)*tan(theta)],\n",
       "[                   0,        0,                    1]])"
      ]
     },
     "execution_count": 25,
     "metadata": {},
     "output_type": "execute_result"
    }
   ],
   "source": [
    "invA = sp.simplify(A.inv())\n",
    "invA"
   ]
  },
  {
   "cell_type": "code",
   "execution_count": 26,
   "metadata": {},
   "outputs": [
    {
     "data": {
      "text/latex": [
       "$\\displaystyle \\left[\\begin{matrix}- \\Omega \\left(\\sin{\\left(\\phi \\right)} \\sin{\\left(\\psi \\right)} - \\sin{\\left(\\theta \\right)} \\cos{\\left(\\phi \\right)} \\cos{\\left(\\psi \\right)}\\right) + \\omega_{1}\\\\- \\Omega \\left(\\sin{\\left(\\phi \\right)} \\cos{\\left(\\psi \\right)} + \\sin{\\left(\\psi \\right)} \\sin{\\left(\\theta \\right)} \\cos{\\left(\\phi \\right)}\\right) + \\omega_{2}\\\\- \\Omega \\cos{\\left(\\phi \\right)} \\cos{\\left(\\theta \\right)} + \\omega_{3}\\end{matrix}\\right]$"
      ],
      "text/plain": [
       "Matrix([\n",
       "[-Omega*(sin(phi)*sin(psi) - sin(theta)*cos(phi)*cos(psi)) + omega_1],\n",
       "[-Omega*(sin(phi)*cos(psi) + sin(psi)*sin(theta)*cos(phi)) + omega_2],\n",
       "[                               -Omega*cos(phi)*cos(theta) + omega_3]])"
      ]
     },
     "execution_count": 26,
     "metadata": {},
     "output_type": "execute_result"
    }
   ],
   "source": [
    "C = omega - Omega * A_3\n",
    "C"
   ]
  },
  {
   "cell_type": "code",
   "execution_count": 27,
   "metadata": {},
   "outputs": [
    {
     "data": {
      "text/latex": [
       "$\\displaystyle \\left[\\begin{matrix}\\frac{\\Omega \\sin{\\left(\\theta \\right)} \\cos{\\left(\\phi \\right)} + \\omega_{1} \\cos{\\left(\\psi \\right)} - \\omega_{2} \\sin{\\left(\\psi \\right)}}{\\cos{\\left(\\theta \\right)}} & - \\Omega \\sin{\\left(\\phi \\right)} + \\omega_{1} \\sin{\\left(\\psi \\right)} + \\omega_{2} \\cos{\\left(\\psi \\right)} & - \\frac{\\Omega \\cos{\\left(\\phi \\right)}}{\\cos{\\left(\\theta \\right)}} - \\omega_{1} \\cos{\\left(\\psi \\right)} \\tan{\\left(\\theta \\right)} + \\omega_{2} \\sin{\\left(\\psi \\right)} \\tan{\\left(\\theta \\right)} + \\omega_{3}\\end{matrix}\\right]$"
      ],
      "text/plain": [
       "Matrix([[(Omega*sin(theta)*cos(phi) + omega_1*cos(psi) - omega_2*sin(psi))/cos(theta), -Omega*sin(phi) + omega_1*sin(psi) + omega_2*cos(psi), -Omega*cos(phi)/cos(theta) - omega_1*cos(psi)*tan(theta) + omega_2*sin(psi)*tan(theta) + omega_3]])"
      ]
     },
     "execution_count": 27,
     "metadata": {},
     "output_type": "execute_result"
    }
   ],
   "source": [
    "dots = sp.simplify(C.T @ invA )\n",
    "dots"
   ]
  },
  {
   "cell_type": "code",
   "execution_count": 30,
   "metadata": {
    "notebookRunGroups": {
     "groupValue": ""
    }
   },
   "outputs": [
    {
     "data": {
      "text/latex": [
       "$\\displaystyle \\left[\\begin{matrix}\\cos{\\left(\\psi \\right)} \\cos{\\left(\\theta \\right)} & \\sin{\\left(\\phi \\right)} \\sin{\\left(\\theta \\right)} \\cos{\\left(\\psi \\right)} + \\sin{\\left(\\psi \\right)} \\cos{\\left(\\phi \\right)} & \\sin{\\left(\\phi \\right)} \\sin{\\left(\\psi \\right)} - \\sin{\\left(\\theta \\right)} \\cos{\\left(\\phi \\right)} \\cos{\\left(\\psi \\right)}\\\\- \\sin{\\left(\\psi \\right)} \\cos{\\left(\\theta \\right)} & - \\sin{\\left(\\phi \\right)} \\sin{\\left(\\psi \\right)} \\sin{\\left(\\theta \\right)} + \\cos{\\left(\\phi \\right)} \\cos{\\left(\\psi \\right)} & \\sin{\\left(\\phi \\right)} \\cos{\\left(\\psi \\right)} + \\sin{\\left(\\psi \\right)} \\sin{\\left(\\theta \\right)} \\cos{\\left(\\phi \\right)}\\\\\\sin{\\left(\\theta \\right)} & - \\sin{\\left(\\phi \\right)} \\cos{\\left(\\theta \\right)} & \\cos{\\left(\\phi \\right)} \\cos{\\left(\\theta \\right)}\\end{matrix}\\right]$"
      ],
      "text/plain": [
       "Matrix([\n",
       "[ cos(psi)*cos(theta),  sin(phi)*sin(theta)*cos(psi) + sin(psi)*cos(phi), sin(phi)*sin(psi) - sin(theta)*cos(phi)*cos(psi)],\n",
       "[-sin(psi)*cos(theta), -sin(phi)*sin(psi)*sin(theta) + cos(phi)*cos(psi), sin(phi)*cos(psi) + sin(psi)*sin(theta)*cos(phi)],\n",
       "[          sin(theta),                              -sin(phi)*cos(theta),                              cos(phi)*cos(theta)]])"
      ]
     },
     "execution_count": 30,
     "metadata": {},
     "output_type": "execute_result"
    }
   ],
   "source": []
  },
  {
   "cell_type": "code",
   "execution_count": 31,
   "metadata": {},
   "outputs": [
    {
     "data": {
      "text/latex": [
       "$\\displaystyle \\left[\\begin{matrix}\\cos{\\left(\\psi \\right)} \\cos{\\left(\\theta \\right)} & \\sin{\\left(\\phi \\right)} \\sin{\\left(\\theta \\right)} \\cos{\\left(\\psi \\right)} + \\sin{\\left(\\psi \\right)} \\cos{\\left(\\phi \\right)} & \\sin{\\left(\\phi \\right)} \\sin{\\left(\\psi \\right)} - \\sin{\\left(\\theta \\right)} \\cos{\\left(\\phi \\right)} \\cos{\\left(\\psi \\right)}\\\\- \\sin{\\left(\\psi \\right)} \\cos{\\left(\\theta \\right)} & - \\sin{\\left(\\phi \\right)} \\sin{\\left(\\psi \\right)} \\sin{\\left(\\theta \\right)} + \\cos{\\left(\\phi \\right)} \\cos{\\left(\\psi \\right)} & \\sin{\\left(\\phi \\right)} \\cos{\\left(\\psi \\right)} + \\sin{\\left(\\psi \\right)} \\sin{\\left(\\theta \\right)} \\cos{\\left(\\phi \\right)}\\\\\\sin{\\left(\\theta \\right)} & - \\sin{\\left(\\phi \\right)} \\cos{\\left(\\theta \\right)} & \\cos{\\left(\\phi \\right)} \\cos{\\left(\\theta \\right)}\\end{matrix}\\right]$"
      ],
      "text/plain": [
       "Matrix([\n",
       "[ cos(psi)*cos(theta),  sin(phi)*sin(theta)*cos(psi) + sin(psi)*cos(phi), sin(phi)*sin(psi) - sin(theta)*cos(phi)*cos(psi)],\n",
       "[-sin(psi)*cos(theta), -sin(phi)*sin(psi)*sin(theta) + cos(phi)*cos(psi), sin(phi)*cos(psi) + sin(psi)*sin(theta)*cos(phi)],\n",
       "[          sin(theta),                              -sin(phi)*cos(theta),                              cos(phi)*cos(theta)]])"
      ]
     },
     "execution_count": 31,
     "metadata": {},
     "output_type": "execute_result"
    }
   ],
   "source": [
    "R_3 * R_2 * R_1"
   ]
  },
  {
   "cell_type": "code",
   "execution_count": null,
   "metadata": {},
   "outputs": [],
   "source": []
  }
 ],
 "metadata": {
  "kernelspec": {
   "display_name": "Python 3.9.13 ('base')",
   "language": "python",
   "name": "python3"
  },
  "language_info": {
   "codemirror_mode": {
    "name": "ipython",
    "version": 3
   },
   "file_extension": ".py",
   "mimetype": "text/x-python",
   "name": "python",
   "nbconvert_exporter": "python",
   "pygments_lexer": "ipython3",
   "version": "3.9.13"
  },
  "orig_nbformat": 4,
  "vscode": {
   "interpreter": {
    "hash": "a5574cc6880d3cb4349c442f6779904869884236745d57bf219b80c061576c0d"
   }
  }
 },
 "nbformat": 4,
 "nbformat_minor": 2
}
